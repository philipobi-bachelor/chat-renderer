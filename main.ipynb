{
 "cells": [
  {
   "cell_type": "code",
   "execution_count": null,
   "id": "9ce23256",
   "metadata": {},
   "outputs": [],
   "source": [
    "from renderer import Chat\n",
    "chat = Chat.fromKey(\"1096206\")\n",
    "doc = chat.build()\n",
    "with open(\"test.md\", \"w\") as f:\n",
    "    f.writelines(doc.render())"
   ]
  },
  {
   "cell_type": "code",
   "execution_count": null,
   "id": "22b2f681",
   "metadata": {},
   "outputs": [],
   "source": [
    "with open(\"foobar.json\", \"w\") as f:\n",
    "    from renderer import DB\n",
    "    import json\n",
    "    json.dump(DB.getDocument(\"chat-logs\", \"1096206\"), f)"
   ]
  },
  {
   "cell_type": "code",
   "execution_count": null,
   "id": "f65b8498",
   "metadata": {},
   "outputs": [],
   "source": []
  }
 ],
 "metadata": {
  "language_info": {
   "name": "python"
  }
 },
 "nbformat": 4,
 "nbformat_minor": 5
}

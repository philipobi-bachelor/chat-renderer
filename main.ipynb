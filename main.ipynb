{
 "cells": [
  {
   "cell_type": "code",
   "execution_count": null,
   "id": "9ce23256",
   "metadata": {},
   "outputs": [],
   "source": [
    "from renderer import Chat\n",
    "chat = Chat.fromKey(\"891409\")\n",
    "doc = chat.build()\n",
    "with open(\"test.md\", \"w\") as f:\n",
    "    f.writelines(doc.render())"
   ]
  },
  {
   "cell_type": "code",
   "execution_count": null,
   "id": "cb539d32",
   "metadata": {},
   "outputs": [],
   "source": []
  }
 ],
 "metadata": {
  "language_info": {
   "name": "python"
  }
 },
 "nbformat": 4,
 "nbformat_minor": 5
}

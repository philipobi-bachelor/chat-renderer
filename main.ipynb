{
 "cells": [
  {
   "cell_type": "code",
   "execution_count": null,
   "id": "9ce23256",
   "metadata": {},
   "outputs": [],
   "source": [
    "from renderer import Chat, DB"
   ]
  },
  {
   "cell_type": "code",
   "execution_count": null,
   "id": "9ec6801e",
   "metadata": {},
   "outputs": [],
   "source": [
    "chat = Chat.fromKey(\"914472\")"
   ]
  },
  {
   "cell_type": "code",
   "execution_count": null,
   "id": "321e606e",
   "metadata": {},
   "outputs": [],
   "source": [
    "with open(\"chat.md\", \"w\") as f:\n",
    "    f.writelines(chat.render())"
   ]
  },
  {
   "cell_type": "code",
   "execution_count": null,
   "id": "7ac74edf",
   "metadata": {},
   "outputs": [],
   "source": [
    "from collections.abc import Iterable\n",
    "def func():\n",
    "    yield \"foo\"\n",
    "\n",
    "it = (i for i in range(10))\n",
    "isinstance(it, Iterable)"
   ]
  },
  {
   "cell_type": "code",
   "execution_count": null,
   "id": "a44f47fc",
   "metadata": {},
   "outputs": [],
   "source": []
  }
 ],
 "metadata": {
  "language_info": {
   "name": "python"
  }
 },
 "nbformat": 4,
 "nbformat_minor": 5
}

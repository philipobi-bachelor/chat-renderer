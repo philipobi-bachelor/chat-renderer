{
 "cells": [
  {
   "cell_type": "code",
   "execution_count": null,
   "id": "96860fb3",
   "metadata": {},
   "outputs": [],
   "source": [
    "#fix import issues\n",
    "import sys\n",
    "from pathlib import Path\n",
    "pkg_root = Path().resolve().parent\n",
    "sys.path.insert(0, str(pkg_root))\n",
    "__package__ = \"chat_renderer\"\n",
    "from . import Chat"
   ]
  },
  {
   "cell_type": "code",
   "execution_count": null,
   "id": "9ce23256",
   "metadata": {},
   "outputs": [],
   "source": [
    "chat = Chat.fromKey(\"1216633\")\n",
    "doc = chat.build()\n",
    "with open(\"test.md\", \"w\") as f:\n",
    "    f.writelines(doc.render())"
   ]
  },
  {
   "cell_type": "code",
   "execution_count": null,
   "id": "d5efcb93",
   "metadata": {},
   "outputs": [],
   "source": [
    "editedFiles = list(filter(\n",
    "            lambda path: len(chat.files[path]) > 1,\n",
    "            chat.editedFiles\n",
    "        ))"
   ]
  },
  {
   "cell_type": "code",
   "execution_count": null,
   "id": "84709d5e",
   "metadata": {},
   "outputs": [],
   "source": [
    "editedFiles"
   ]
  },
  {
   "cell_type": "code",
   "execution_count": null,
   "id": "6d8a2366",
   "metadata": {},
   "outputs": [],
   "source": [
    "chat.files"
   ]
  },
  {
   "cell_type": "code",
   "execution_count": null,
   "id": "22b2f681",
   "metadata": {},
   "outputs": [],
   "source": [
    "with open(\"foobar.json\", \"w\") as f:\n",
    "    from renderer import DB\n",
    "    import json\n",
    "    json.dump(DB.getDocument(\"chat-logs\", \"1096206\"), f)"
   ]
  },
  {
   "cell_type": "code",
   "execution_count": null,
   "id": "f65b8498",
   "metadata": {},
   "outputs": [],
   "source": [
    "class dummy:\n",
    "    @staticmethod\n",
    "    def foo():\n",
    "        print(\"foo\")\n",
    "\n",
    "dummy.foo = lambda : print(\"bar\")"
   ]
  },
  {
   "cell_type": "code",
   "execution_count": null,
   "id": "a5765db9",
   "metadata": {},
   "outputs": [],
   "source": [
    "dummy.foo()"
   ]
  },
  {
   "cell_type": "code",
   "execution_count": null,
   "id": "9d3af014",
   "metadata": {},
   "outputs": [],
   "source": [
    "from pathlib import PurePath\n",
    "\n",
    "PurePath(\"/foo/bar\") / \"baz\""
   ]
  },
  {
   "cell_type": "code",
   "execution_count": null,
   "id": "837b0c0c",
   "metadata": {},
   "outputs": [],
   "source": [
    "set(1,2).size"
   ]
  },
  {
   "cell_type": "code",
   "execution_count": null,
   "id": "a2eb0ab9",
   "metadata": {},
   "outputs": [],
   "source": []
  }
 ],
 "metadata": {
  "language_info": {
   "name": "python"
  }
 },
 "nbformat": 4,
 "nbformat_minor": 5
}

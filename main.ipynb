{
 "cells": [
  {
   "cell_type": "code",
   "execution_count": null,
   "id": "9ce23256",
   "metadata": {},
   "outputs": [],
   "source": [
    "from renderer import Chat, DB"
   ]
  },
  {
   "cell_type": "code",
   "execution_count": null,
   "id": "9ec6801e",
   "metadata": {},
   "outputs": [],
   "source": [
    "chat = Chat.fromKey(\"914472\")"
   ]
  },
  {
   "cell_type": "code",
   "execution_count": null,
   "id": "58abc275",
   "metadata": {},
   "outputs": [],
   "source": [
    "doc = chat.build()"
   ]
  },
  {
   "cell_type": "code",
   "execution_count": null,
   "id": "321e606e",
   "metadata": {},
   "outputs": [],
   "source": [
    "with open(\"test.md\", \"w\") as f:\n",
    "    f.writelines(doc.render())"
   ]
  },
  {
   "cell_type": "code",
   "execution_count": null,
   "id": "7ac74edf",
   "metadata": {},
   "outputs": [],
   "source": [
    "from collections.abc import Iterable\n",
    "def func():\n",
    "    yield \"foo\"\n",
    "\n",
    "it = (i for i in range(10))\n",
    "isinstance(it, Iterable)"
   ]
  },
  {
   "cell_type": "code",
   "execution_count": null,
   "id": "a44f47fc",
   "metadata": {},
   "outputs": [],
   "source": [
    "from utils import flatten\n",
    "\n",
    "list(flatten([\n",
    "    [1,2,3],\n",
    "    [1,2,3],\n",
    "    [1,2,3],\n",
    "    [1,2,3],\n",
    "    [\n",
    "        [1],\n",
    "        [1],\n",
    "        [1],\n",
    "        [1],\n",
    "    ],\n",
    "    map(\n",
    "        lambda x:x+1,\n",
    "        [1,2,3,4]\n",
    "    )\n",
    "]))"
   ]
  },
  {
   "cell_type": "code",
   "execution_count": null,
   "id": "f111d22a",
   "metadata": {},
   "outputs": [],
   "source": [
    "import json\n",
    "from renderer import DB\n",
    "with open(\"foobar.json\", \"w\") as f:\n",
    "    json.dump(DB.getDocument(\"chat-logs\", \"891409\"), f)"
   ]
  },
  {
   "cell_type": "code",
   "execution_count": null,
   "id": "1947593e",
   "metadata": {},
   "outputs": [],
   "source": [
    "from utils import Matcher, matched_filter, buffered"
   ]
  },
  {
   "cell_type": "code",
   "execution_count": null,
   "id": "a8f623e0",
   "metadata": {},
   "outputs": [],
   "source": [
    "from markdown import Document, Blockquote, BlockquoteTag, Text, Details, CodeBlock, Wrapper\n",
    "\n",
    "txt = Text(\n",
    "    Text.Text(\"Hello World\"), Text.Linebreak(),\n",
    "    Text.Code(\"Some Code\"), Text.Text(\" and some more text\")\n",
    ")\n",
    "\n",
    "item = BlockquoteTag(\n",
    "    txt,\n",
    "    BlockquoteTag(\n",
    "        txt,\n",
    "        Details(\n",
    "            txt,\n",
    "            CodeBlock([\"import foo\", \"foo.bar()\", \"print('wow')\"], lang=\"python\"),\n",
    "            summary=\"MyDetails\",\n",
    "        )\n",
    "    )\n",
    ")\n",
    "\n",
    "doc = Document(\n",
    "    Wrapper(\n",
    "        item,\n",
    "        item\n",
    "    )\n",
    ")"
   ]
  },
  {
   "cell_type": "code",
   "execution_count": null,
   "id": "c936a071",
   "metadata": {},
   "outputs": [],
   "source": [
    "with open(\"test.md\", \"w\") as f:\n",
    "    f.writelines(doc.render())"
   ]
  },
  {
   "cell_type": "code",
   "execution_count": null,
   "id": "48c3a7e7",
   "metadata": {},
   "outputs": [],
   "source": [
    "mybool = True"
   ]
  },
  {
   "cell_type": "code",
   "execution_count": null,
   "id": "012825fb",
   "metadata": {},
   "outputs": [],
   "source": [
    "mybool ^= True"
   ]
  },
  {
   "cell_type": "code",
   "execution_count": null,
   "id": "05fb8dc2",
   "metadata": {},
   "outputs": [],
   "source": [
    "mybool"
   ]
  },
  {
   "cell_type": "code",
   "execution_count": null,
   "id": "b04c464e",
   "metadata": {},
   "outputs": [],
   "source": [
    "\n",
    "[1, *(1 if True else ())]"
   ]
  },
  {
   "cell_type": "code",
   "execution_count": null,
   "id": "ceff727e",
   "metadata": {},
   "outputs": [],
   "source": []
  }
 ],
 "metadata": {
  "language_info": {
   "name": "python"
  }
 },
 "nbformat": 4,
 "nbformat_minor": 5
}

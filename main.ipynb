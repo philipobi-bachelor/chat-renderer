{
 "cells": [
  {
   "cell_type": "code",
   "execution_count": null,
   "id": "9ce23256",
   "metadata": {},
   "outputs": [],
   "source": [
    "from renderer import Chat"
   ]
  },
  {
   "cell_type": "code",
   "execution_count": null,
   "id": "9ec6801e",
   "metadata": {},
   "outputs": [],
   "source": [
    "chat = Chat.from_key(\"914472\")"
   ]
  },
  {
   "cell_type": "code",
   "execution_count": null,
   "id": "321e606e",
   "metadata": {},
   "outputs": [],
   "source": [
    "with open(\"chat.md\", \"w\") as f:\n",
    "    f.writelines(chat.render())"
   ]
  },
  {
   "cell_type": "code",
   "execution_count": null,
   "id": "55a16833",
   "metadata": {},
   "outputs": [],
   "source": []
  }
 ],
 "metadata": {
  "language_info": {
   "name": "python"
  }
 },
 "nbformat": 4,
 "nbformat_minor": 5
}
